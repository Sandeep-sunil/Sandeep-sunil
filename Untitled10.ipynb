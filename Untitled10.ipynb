{
  "nbformat": 4,
  "nbformat_minor": 0,
  "metadata": {
    "colab": {
      "provenance": [],
      "authorship_tag": "ABX9TyP45Iv3C27dvukWbhAT+G7z",
      "include_colab_link": true
    },
    "kernelspec": {
      "name": "python3",
      "display_name": "Python 3"
    },
    "language_info": {
      "name": "python"
    }
  },
  "cells": [
    {
      "cell_type": "markdown",
      "metadata": {
        "id": "view-in-github",
        "colab_type": "text"
      },
      "source": [
        "<a href=\"https://colab.research.google.com/github/Sandeep-sunil/Sandeep-sunil/blob/main/Untitled10.ipynb\" target=\"_parent\"><img src=\"https://colab.research.google.com/assets/colab-badge.svg\" alt=\"Open In Colab\"/></a>"
      ]
    },
    {
      "cell_type": "code",
      "source": [
        "students = {\"Alice\": 85, \"Bob\": 90, \"Charlie\": 78}\n",
        "sorted_students = dict(sorted(students.items(), key=lambda item: item[1], reverse=False))\n",
        "print(sorted_students)\n"
      ],
      "metadata": {
        "colab": {
          "base_uri": "https://localhost:8080/"
        },
        "id": "xIZZCAf-4HPI",
        "outputId": "eb3c35b4-cbd0-4c1d-ba73-27607b196c1a"
      },
      "execution_count": 6,
      "outputs": [
        {
          "output_type": "stream",
          "name": "stdout",
          "text": [
            "{'Charlie': 78, 'Alice': 85, 'Bob': 90}\n"
          ]
        }
      ]
    },
    {
      "cell_type": "code",
      "source": [
        "a={}\n",
        "b=int(input(\"Enter no.of key: \"))\n",
        "for i in range(0,b):\n",
        "  d=input(\"Enter key:\")\n",
        "  c=int(input(\"Enter values:\"))\n",
        "  a[d]=c\n",
        "print(a)\n",
        "so_a=dict(sorted(a.items(), key=lambda item: item[1], reverse=True))\n",
        "print(so_a)"
      ],
      "metadata": {
        "colab": {
          "base_uri": "https://localhost:8080/"
        },
        "id": "afHhrL4c63cO",
        "outputId": "e8c5cc6d-b9ca-41f5-ee9e-7cd7c95f92a5"
      },
      "execution_count": 15,
      "outputs": [
        {
          "output_type": "stream",
          "name": "stdout",
          "text": [
            "Enter no.of key: 3\n",
            "Enter key:10\n",
            "Enter values:11\n",
            "Enter key:12\n",
            "Enter values:4\n",
            "Enter key:13\n",
            "Enter values:15\n",
            "{'10': 11, '12': 4, '13': 15}\n",
            "{'13': 15, '10': 11, '12': 4}\n"
          ]
        }
      ]
    },
    {
      "cell_type": "code",
      "source": [
        "import random\n",
        "random_tuple = tuple(random.randint(1, 1000) for i in range(5))\n",
        "print(random_tuple)\n"
      ],
      "metadata": {
        "colab": {
          "base_uri": "https://localhost:8080/"
        },
        "id": "QQSMVP6b_OwP",
        "outputId": "cc70c44f-2df9-4298-9a89-4bfb54cccda0"
      },
      "execution_count": 25,
      "outputs": [
        {
          "output_type": "stream",
          "name": "stdout",
          "text": [
            "(360, 82, 402, 777, 623)\n"
          ]
        }
      ]
    },
    {
      "cell_type": "code",
      "source": [
        "import numpy as np\n",
        "\n",
        "matrix_A = np.array([[1, 2], [3, 4]])\n",
        "matrix_B = np.array([[5, 6], [7, 8]])\n",
        "\n",
        "result = matrix_A + matrix_B\n",
        "print(result)\n",
        "transposed = np.transpose(matrix_A)\n",
        "print(transposed)\n"
      ],
      "metadata": {
        "colab": {
          "base_uri": "https://localhost:8080/"
        },
        "id": "_LutFwUbB-0A",
        "outputId": "994daf82-3d50-43c5-d2cd-4db443a438a7"
      },
      "execution_count": 40,
      "outputs": [
        {
          "output_type": "stream",
          "name": "stdout",
          "text": [
            "[[ 6  8]\n",
            " [10 12]]\n",
            "[[1 3]\n",
            " [2 4]]\n"
          ]
        }
      ]
    },
    {
      "cell_type": "code",
      "source": [
        "row = int(input(\"Enter number of rows: \"))\n",
        "col = int(input(\"Enter number of columns: \"))\n",
        "\n",
        "# Initializing dictionaries for matrices\n",
        "matrix_A = {}\n",
        "matrix_B = {}\n",
        "\n",
        "# Filling matrix A\n",
        "print(\"Enter values for Matrix A:\")\n",
        "for i in range(row):\n",
        "    for j in range(col):\n",
        "        val = int(input(f\"Enter value for position ({i}, {j}): \"))\n",
        "        matrix_A[(i, j)] = val\n",
        "\n",
        "# Displaying matrix A\n",
        "print(\"Matrix A:\")\n",
        "for i in range(row):\n",
        "    for j in range(col):\n",
        "        print(matrix_A[(i, j)], end=\" \")\n",
        "    print()\n",
        "\n",
        "# Filling matrix B\n",
        "print(\"Enter values for Matrix B:\")\n",
        "for i in range(row):\n",
        "    for j in range(col):\n",
        "        val = int(input(f\"Enter value for position ({i}, {j}): \"))\n",
        "        matrix_B[(i, j)] = val\n",
        "\n",
        "# Displaying matrix B\n",
        "print(\"Matrix B:\")\n",
        "for i in range(row):\n",
        "    for j in range(col):\n",
        "        print(matrix_B[(i, j)], end=\" \")\n",
        "    print()\n",
        "\n",
        "# Adding the two matrices element-wise\n",
        "matrix_C = {}\n",
        "for i in range(row):\n",
        "    for j in range(col):\n",
        "        matrix_C[(i, j)] = matrix_A[(i, j)] + matrix_B[(i, j)]\n",
        "\n",
        "# Displaying the result matrix\n",
        "print(\"Matrix C (A + B):\")\n",
        "for i in range(row):\n",
        "    for j in range(col):\n",
        "        print(matrix_C[(i, j)], end=\" \")\n",
        "    print()\n",
        "transposed = np.transpose(matrix_A)\n",
        "print(transposed)\n"
      ],
      "metadata": {
        "colab": {
          "base_uri": "https://localhost:8080/"
        },
        "id": "JXeLuqIuCJOv",
        "outputId": "6e7c01c8-0a46-4f6a-97c2-027ddf99a74c"
      },
      "execution_count": 39,
      "outputs": [
        {
          "output_type": "stream",
          "name": "stdout",
          "text": [
            "Enter number of rows: 2\n",
            "Enter number of columns: 2\n",
            "Enter values for Matrix A:\n",
            "Enter value for position (0, 0): 1\n",
            "Enter value for position (0, 1): 2\n",
            "Enter value for position (1, 0): 3\n",
            "Enter value for position (1, 1): 4\n",
            "Matrix A:\n",
            "1 2 \n",
            "3 4 \n",
            "Enter values for Matrix B:\n",
            "Enter value for position (0, 0): 5\n",
            "Enter value for position (0, 1): 6\n",
            "Enter value for position (1, 0): 7\n",
            "Enter value for position (1, 1): 8\n",
            "Matrix B:\n",
            "5 6 \n",
            "7 8 \n",
            "Matrix C (A + B):\n",
            "6 8 \n",
            "10 12 \n",
            "{(0, 0): 1, (0, 1): 2, (1, 0): 3, (1, 1): 4}\n"
          ]
        }
      ]
    },
    {
      "cell_type": "code",
      "source": [
        "import numpy as np\n",
        "import random\n"
      ],
      "metadata": {
        "id": "veX5juggHUHz"
      },
      "execution_count": null,
      "outputs": []
    }
  ]
}