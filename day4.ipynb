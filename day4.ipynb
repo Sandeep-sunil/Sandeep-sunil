{
  "nbformat": 4,
  "nbformat_minor": 0,
  "metadata": {
    "colab": {
      "provenance": [],
      "authorship_tag": "ABX9TyMgW9X895f7X7EhkS1mKU3+",
      "include_colab_link": true
    },
    "kernelspec": {
      "name": "python3",
      "display_name": "Python 3"
    },
    "language_info": {
      "name": "python"
    }
  },
  "cells": [
    {
      "cell_type": "markdown",
      "metadata": {
        "id": "view-in-github",
        "colab_type": "text"
      },
      "source": [
        "<a href=\"https://colab.research.google.com/github/Sandeep-sunil/Sandeep-sunil/blob/main/day4.ipynb\" target=\"_parent\"><img src=\"https://colab.research.google.com/assets/colab-badge.svg\" alt=\"Open In Colab\"/></a>"
      ]
    },
    {
      "cell_type": "code",
      "execution_count": 3,
      "metadata": {
        "colab": {
          "base_uri": "https://localhost:8080/"
        },
        "id": "P07qaJ6hX3OE",
        "outputId": "c91d9c53-6409-47a5-ba88-f16e0a13941f"
      },
      "outputs": [
        {
          "output_type": "stream",
          "name": "stdout",
          "text": [
            "\n",
            "Accuracy: 1.0\n",
            "Test Data (X_test): [[180   4]\n",
            " [ 60   2]]\n",
            "True Labels (Y_test): [1 0]\n",
            "Predicted Labels: [1 0]\n",
            "\n",
            "Decision Tree Accuracy: 1.0\n"
          ]
        }
      ],
      "source": [
        "from sklearn.model_selection import train_test_split\n",
        "from sklearn.linear_model import LogisticRegression\n",
        "from sklearn.metrics import accuracy_score\n",
        "import numpy as np\n",
        "\n",
        "# Sample Data: 1 = Spam, 0 = Not Spam\n",
        "X = np.array([[200, 5], [50, 1], [180, 4], [30, 0], [150, 3], [60, 2]])  # (Email Length, Number of Links)\n",
        "Y = np.array([1, 0, 1, 0, 1, 0])  # Labels (Spam = 1, Not Spam = 0)\n",
        "\n",
        "# Split Data\n",
        "X_train, X_test, Y_train, Y_test = train_test_split(X, Y, test_size=0.2)\n",
        "\n",
        "# Train Model\n",
        "model = LogisticRegression()\n",
        "model.fit(X_train, Y_train)\n",
        "\n",
        "# Predictions\n",
        "Y_pred = model.predict(X_test)\n",
        "print(\"\\nAccuracy:\", accuracy_score(Y_test, Y_pred))\n",
        "print(\"Test Data (X_test):\", X_test)\n",
        "print(\"True Labels (Y_test):\", Y_test)\n",
        "print(\"Predicted Labels:\", Y_pred)\n",
        "from sklearn.tree import DecisionTreeClassifier\n",
        "\n",
        "# Train Decision Tree\n",
        "tree_model = DecisionTreeClassifier()\n",
        "tree_model.fit(X_train, Y_train)\n",
        "\n",
        "# Predict\n",
        "Y_pred_tree = tree_model.predict(X_test)\n",
        "print(\"\\nDecision Tree Accuracy:\", accuracy_score(Y_test, Y_pred_tree))\n"
      ]
    },
    {
      "cell_type": "code",
      "source": [
        "import numpy as np\n",
        "from sklearn.model_selection import train_test_split\n",
        "from sklearn.linear_model import LogisticRegression\n",
        "from sklearn.tree import DecisionTreeClassifier\n",
        "from sklearn.metrics import accuracy_score\n",
        "\n",
        "emails = np.array([\n",
        "  [250, 0.1, 5], [50, 0.9, 0], [180, 0.2, 4], [40, 1.0, 0], [300, 0.3, 6],\n",
        "  [70, 0.8, 1], [120, 0.4, 3], [55, 0.95, 0], [210, 0.5, 5], [65, 0.7, 1]\n",
        "])\n",
        "labels = np.array([1, 0, 1, 0, 1, 0, 1, 0, 1, 0])\n",
        "\n",
        "X_train, X_test, Y_train, Y_test = train_test_split(emails, labels, test_size=0.3, random_state=42)\n",
        "\n",
        "log_model = LogisticRegression()\n",
        "log_model.fit(X_train, Y_train)\n",
        "log_predictions = log_model.predict(X_test)\n",
        "\n",
        "tree_model = DecisionTreeClassifier()\n",
        "tree_model.fit(X_train, Y_train)\n",
        "tree_predictions = tree_model.predict(X_test)\n",
        "\n",
        "log_accuracy = accuracy_score(Y_test, log_predictions)\n",
        "tree_accuracy = accuracy_score(Y_test, tree_predictions)\n",
        "\n",
        "print(\"Logistic Regression:\", log_accuracy)\n",
        "print(\"Decision Tree:\", tree_accuracy)\n",
        "\n",
        "if log_accuracy > tree_accuracy:\n",
        "  print(\"Logistic Regression performed better.\")\n",
        "elif tree_accuracy > log_accuracy:\n",
        "  print(\"Decision Tree performed better.\")\n",
        "else:\n",
        "  print(\"Both models performed equally.\")\n"
      ],
      "metadata": {
        "colab": {
          "base_uri": "https://localhost:8080/"
        },
        "id": "jFGKKUiadNuQ",
        "outputId": "6e63d702-f228-47d9-c37f-d1856eec1bc7"
      },
      "execution_count": 4,
      "outputs": [
        {
          "output_type": "stream",
          "name": "stdout",
          "text": [
            "Logistic Regression: 1.0\n",
            "Decision Tree: 1.0\n",
            "Both models performed equally.\n"
          ]
        }
      ]
    }
  ]
}